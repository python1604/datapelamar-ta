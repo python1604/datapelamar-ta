{
 "cells": [
  {
   "cell_type": "code",
   "execution_count": 1,
   "id": "6d5e41e5",
   "metadata": {},
   "outputs": [],
   "source": [
    "import pandas as pd\n",
    "import numpy as np\n",
    "import matplotlib.pyplot as plt\n",
    "import seaborn as sn\n",
    "\n",
    "\n",
    "from sklearn.preprocessing import LabelEncoder\n",
    "from sklearn import preprocessing\n",
    "from sklearn.model_selection import train_test_split \n",
    "from sklearn.model_selection import GridSearchCV\n",
    "from sklearn.model_selection import cross_val_predict\n",
    "from sklearn.metrics import accuracy_score \n",
    "from sklearn.ensemble import RandomForestClassifier\n",
    "from sklearn.metrics import confusion_matrix, classification_report, roc_auc_score, roc_curve, f1_score, accuracy_score, recall_score, precision_score\n",
    "import pickle"
   ]
  },
  {
   "cell_type": "code",
   "execution_count": 2,
   "id": "ee0d69a3",
   "metadata": {},
   "outputs": [
    {
     "data": {
      "text/html": [
       "<div>\n",
       "<style scoped>\n",
       "    .dataframe tbody tr th:only-of-type {\n",
       "        vertical-align: middle;\n",
       "    }\n",
       "\n",
       "    .dataframe tbody tr th {\n",
       "        vertical-align: top;\n",
       "    }\n",
       "\n",
       "    .dataframe thead th {\n",
       "        text-align: right;\n",
       "    }\n",
       "</style>\n",
       "<table border=\"1\" class=\"dataframe\">\n",
       "  <thead>\n",
       "    <tr style=\"text-align: right;\">\n",
       "      <th></th>\n",
       "      <th>Kota Domisili</th>\n",
       "      <th>Usia</th>\n",
       "      <th>Pengalaman Pekerjaan</th>\n",
       "      <th>Kemampuan 1 (Komunikasi)</th>\n",
       "      <th>Kemampuan 2 (Negosiasi)</th>\n",
       "      <th>Kemampuan 3 (IT Umum)</th>\n",
       "      <th>Status Kelengkapan</th>\n",
       "      <th>Tahapan</th>\n",
       "    </tr>\n",
       "  </thead>\n",
       "  <tbody>\n",
       "    <tr>\n",
       "      <th>0</th>\n",
       "      <td>Kota Jakarta Pusat</td>\n",
       "      <td>24.0</td>\n",
       "      <td>Ada</td>\n",
       "      <td>Iya</td>\n",
       "      <td>Iya</td>\n",
       "      <td>Tidak</td>\n",
       "      <td>Lengkap</td>\n",
       "      <td>Ditolak</td>\n",
       "    </tr>\n",
       "    <tr>\n",
       "      <th>1</th>\n",
       "      <td>Kota Depok</td>\n",
       "      <td>22.0</td>\n",
       "      <td>Ada</td>\n",
       "      <td>Iya</td>\n",
       "      <td>Tidak</td>\n",
       "      <td>Tidak</td>\n",
       "      <td>Tidak Lengkap</td>\n",
       "      <td>Ditolak</td>\n",
       "    </tr>\n",
       "    <tr>\n",
       "      <th>2</th>\n",
       "      <td>Kota Tangerang Selatan</td>\n",
       "      <td>24.0</td>\n",
       "      <td>Ada</td>\n",
       "      <td>Tidak</td>\n",
       "      <td>Tidak</td>\n",
       "      <td>Tidak</td>\n",
       "      <td>Lengkap</td>\n",
       "      <td>Ditolak</td>\n",
       "    </tr>\n",
       "    <tr>\n",
       "      <th>3</th>\n",
       "      <td>Kab. Tangerang</td>\n",
       "      <td>25.0</td>\n",
       "      <td>Ada</td>\n",
       "      <td>Iya</td>\n",
       "      <td>Iya</td>\n",
       "      <td>Iya</td>\n",
       "      <td>Lengkap</td>\n",
       "      <td>Diajukan</td>\n",
       "    </tr>\n",
       "    <tr>\n",
       "      <th>4</th>\n",
       "      <td>Kota Tangerang Selatan</td>\n",
       "      <td>24.0</td>\n",
       "      <td>Ada</td>\n",
       "      <td>Iya</td>\n",
       "      <td>Iya</td>\n",
       "      <td>Iya</td>\n",
       "      <td>Lengkap</td>\n",
       "      <td>Diajukan</td>\n",
       "    </tr>\n",
       "  </tbody>\n",
       "</table>\n",
       "</div>"
      ],
      "text/plain": [
       "            Kota Domisili  Usia Pengalaman Pekerjaan Kemampuan 1 (Komunikasi)  \\\n",
       "0      Kota Jakarta Pusat  24.0                  Ada                      Iya   \n",
       "1              Kota Depok  22.0                  Ada                      Iya   \n",
       "2  Kota Tangerang Selatan  24.0                  Ada                    Tidak   \n",
       "3          Kab. Tangerang  25.0                  Ada                      Iya   \n",
       "4  Kota Tangerang Selatan  24.0                  Ada                      Iya   \n",
       "\n",
       "  Kemampuan 2 (Negosiasi) Kemampuan 3 (IT Umum) Status Kelengkapan   Tahapan  \n",
       "0                     Iya                 Tidak            Lengkap   Ditolak  \n",
       "1                   Tidak                 Tidak      Tidak Lengkap   Ditolak  \n",
       "2                   Tidak                 Tidak            Lengkap   Ditolak  \n",
       "3                     Iya                   Iya            Lengkap  Diajukan  \n",
       "4                     Iya                   Iya            Lengkap  Diajukan  "
      ]
     },
     "execution_count": 2,
     "metadata": {},
     "output_type": "execute_result"
    }
   ],
   "source": [
    "df = pd.read_excel('Data Awal.xlsx')\n",
    "df.drop(columns=['Nama', 'Email', 'Alamat Domisili', 'Provinsi Domisili', 'Kecamatan Domisili', 'Kelurahan Domisili', 'Alamat Ktp', 'Provinsi Ktp', 'Kota Ktp', 'Kecamatan Ktp', 'Kelurahan Ktp', 'Tempat Lahir', 'Tanggal Lahir', 'Telp 1', 'Telp 2', 'Institut Pendidikan', 'Bidang Pendidikan', 'Tahun Lulus', 'Nilai Akhir', 'Level', 'Tanggal Daftar', 'Bulan Daftar', 'Gaji Yang Diharapkan', 'Jenis Kelamin', 'Posisi Yang Dilamar', 'Tingkat Pendidikan', 'Agama'], inplace=True)\n",
    "df.head()"
   ]
  },
  {
   "cell_type": "code",
   "execution_count": 3,
   "id": "9c654c1c",
   "metadata": {},
   "outputs": [
    {
     "data": {
      "text/plain": [
       "0       <30\n",
       "1       <30\n",
       "2       <30\n",
       "3       <30\n",
       "4       <30\n",
       "       ... \n",
       "1150    <30\n",
       "1151    <30\n",
       "1152    <30\n",
       "1153    <30\n",
       "1154    <30\n",
       "Name: Usia, Length: 1155, dtype: object"
      ]
     },
     "execution_count": 3,
     "metadata": {},
     "output_type": "execute_result"
    }
   ],
   "source": [
    "df['Usia'] = df['Usia'].replace((19.0, 20.0, 21.0, 22.0, 23.0, 24.0, 25.0, 25.055307760927743, 26.0, 27.0, 28.0, 29.0, 30.0,), '<30')\n",
    "df['Usia'] = df['Usia'].replace((31.0, 32.0, 33.0, 34.0, 35.0, 36.0, 37.0, 38.0, 39.0, 40.0, 41.0, 42.0, 43.0, 44.0, 45.0, 46.0, 47.0, 48.0, 51.0), '>30')\n",
    "\n",
    "df['Usia']"
   ]
  },
  {
   "cell_type": "code",
   "execution_count": 4,
   "id": "856d6c43",
   "metadata": {},
   "outputs": [
    {
     "data": {
      "text/plain": [
       "0       Luar Wilayah Tangerang\n",
       "1       Luar Wilayah Tangerang\n",
       "2            Wilayah Tangerang\n",
       "3            Wilayah Tangerang\n",
       "4            Wilayah Tangerang\n",
       "                 ...          \n",
       "1150         Wilayah Tangerang\n",
       "1151         Wilayah Tangerang\n",
       "1152    Luar Wilayah Tangerang\n",
       "1153    Luar Wilayah Tangerang\n",
       "1154    Luar Wilayah Tangerang\n",
       "Name: Kota Domisili, Length: 1155, dtype: object"
      ]
     },
     "execution_count": 4,
     "metadata": {},
     "output_type": "execute_result"
    }
   ],
   "source": [
    "df['Kota Domisili'] = df['Kota Domisili'].replace(('Kota Tangerang Selatan', 'Kota Tangerang', 'Kab. Tangerang'), 'Wilayah Tangerang')\n",
    "df['Kota Domisili'] = df['Kota Domisili'].replace(('Kota Depok', 'Kota Jakarta Selatan', 'Kota Jakarta Timur',\n",
    "       'Kota Jakarta Barat', 'Kota Bekasi', 'Kab. Bogor', 'Kota Bogor',\n",
    "       'Kota Jakarta Pusat', 'Kota Jakarta Utara', 'Kab. Lebak',\n",
    "       'Kota Surabaya', 'Kab. Kediri', 'Kab. Sleman', 'Kota Semarang',\n",
    "       'Kab. Bekasi', 'Kota Makassar', 'Kota Sukabumi', 'Kab. Sumedang',\n",
    "       'Kab. Purbalingga', 'Kab. Bandung Barat', 'Kab. Bantul',\n",
    "       'Kota Magelang', 'Kota Kediri', 'Kab. Sukoharjo', 'Kota Bandung',\n",
    "       'Kota Palembang', 'Kab. Sukabumi', 'Kab. Cilacap', 'Kota Cilegon',\n",
    "       'Kab. Lampung Barat', 'Kab. Gresik', 'Kota Serang', 'Kab. Banyuwangi',\n",
    "       'Kab. Garut', 'Kab. Wonogiri', 'Kab. Karawang', 'Kab. Padang Pariaman',\n",
    "       'Kab. Probolinggo', 'Kab. Indramayu', 'Kota Malang',\n",
    "       'Kab. Lombok Tengah', 'Kab. Demak', 'Kota Bandar Lampung',\n",
    "       'Kab. Magetan', 'Kab. Kapuas', 'Kota Padang', 'Kota Palu',\n",
    "       'Kota Pekanbaru', 'Kab. Ponorogo', 'Kota Samarinda',\n",
    "       'Kab. Lampung Timur', 'Kota Denpasar', 'Kab. Boyolali', 'Kota Manado',\n",
    "       'Kab. Gunung Kidul', 'Kab. Pandeglang', 'Kota Cirebon',\n",
    "       'Kota Yogyakarta', 'Kab. Deli Serdang', 'Kab. Banyumas', 'Kab. Lebong'), 'Luar Wilayah Tangerang')\n",
    "\n",
    "df['Kota Domisili']"
   ]
  },
  {
   "cell_type": "code",
   "execution_count": 5,
   "id": "d2d5695c",
   "metadata": {},
   "outputs": [
    {
     "data": {
      "text/plain": [
       "((808, 7), (347, 7), (808,), (347,))"
      ]
     },
     "execution_count": 5,
     "metadata": {},
     "output_type": "execute_result"
    }
   ],
   "source": [
    "X = df.drop(columns='Tahapan')\n",
    "y = df.Tahapan\n",
    "\n",
    "X_train, X_test, y_train, y_test = train_test_split(X, y, test_size = 0.30, stratify=y, random_state = 42)\n",
    "X_train.shape, X_test.shape, y_train.shape, y_test.shape"
   ]
  },
  {
   "cell_type": "code",
   "execution_count": 6,
   "id": "d2d22d0c",
   "metadata": {},
   "outputs": [],
   "source": [
    "from jcopml.pipeline import num_pipe, cat_pipe\n",
    "from sklearn.compose import ColumnTransformer\n",
    "from sklearn.pipeline import Pipeline"
   ]
  },
  {
   "cell_type": "code",
   "execution_count": 7,
   "id": "18263f0f",
   "metadata": {},
   "outputs": [],
   "source": [
    "preprocessor = ColumnTransformer([\n",
    "    ('categoric', cat_pipe(encoder=\"ordinal\"), ['Kota Domisili', 'Usia', 'Pengalaman Pekerjaan', 'Kemampuan 1 (Komunikasi)', 'Kemampuan 2 (Negosiasi)', 'Kemampuan 3 (IT Umum)', 'Status Kelengkapan'])\n",
    "])"
   ]
  },
  {
   "cell_type": "code",
   "execution_count": 8,
   "id": "875a54fb",
   "metadata": {},
   "outputs": [],
   "source": [
    "pipeline = Pipeline([\n",
    "    ('prep', preprocessor),\n",
    "    ('rfc', RandomForestClassifier())    \n",
    "])"
   ]
  },
  {
   "cell_type": "code",
   "execution_count": 9,
   "id": "2dbf16ba",
   "metadata": {},
   "outputs": [],
   "source": [
    "parameter = { \n",
    "    'rfc__n_estimators': [50, 100, 200, 300],\n",
    "    'rfc__max_features': ['auto', 'sqrt', 'log2'],\n",
    "    'rfc__max_depth' : [4,5,6,7]    \n",
    "}\n"
   ]
  },
  {
   "cell_type": "code",
   "execution_count": 10,
   "id": "6ae2b6a1",
   "metadata": {},
   "outputs": [
    {
     "name": "stdout",
     "output_type": "stream",
     "text": [
      "Fitting 5 folds for each of 48 candidates, totalling 240 fits\n"
     ]
    },
    {
     "name": "stderr",
     "output_type": "stream",
     "text": [
      "C:\\Users\\admin\\AppData\\Roaming\\Python\\Python39\\site-packages\\sklearn\\ensemble\\_forest.py:427: FutureWarning: `max_features='auto'` has been deprecated in 1.1 and will be removed in 1.3. To keep the past behaviour, explicitly set `max_features='sqrt'` or remove this parameter as it is also the default value for RandomForestClassifiers and ExtraTreesClassifiers.\n",
      "  warn(\n"
     ]
    },
    {
     "data": {
      "text/html": [
       "<style>#sk-container-id-1 {color: black;background-color: white;}#sk-container-id-1 pre{padding: 0;}#sk-container-id-1 div.sk-toggleable {background-color: white;}#sk-container-id-1 label.sk-toggleable__label {cursor: pointer;display: block;width: 100%;margin-bottom: 0;padding: 0.3em;box-sizing: border-box;text-align: center;}#sk-container-id-1 label.sk-toggleable__label-arrow:before {content: \"▸\";float: left;margin-right: 0.25em;color: #696969;}#sk-container-id-1 label.sk-toggleable__label-arrow:hover:before {color: black;}#sk-container-id-1 div.sk-estimator:hover label.sk-toggleable__label-arrow:before {color: black;}#sk-container-id-1 div.sk-toggleable__content {max-height: 0;max-width: 0;overflow: hidden;text-align: left;background-color: #f0f8ff;}#sk-container-id-1 div.sk-toggleable__content pre {margin: 0.2em;color: black;border-radius: 0.25em;background-color: #f0f8ff;}#sk-container-id-1 input.sk-toggleable__control:checked~div.sk-toggleable__content {max-height: 200px;max-width: 100%;overflow: auto;}#sk-container-id-1 input.sk-toggleable__control:checked~label.sk-toggleable__label-arrow:before {content: \"▾\";}#sk-container-id-1 div.sk-estimator input.sk-toggleable__control:checked~label.sk-toggleable__label {background-color: #d4ebff;}#sk-container-id-1 div.sk-label input.sk-toggleable__control:checked~label.sk-toggleable__label {background-color: #d4ebff;}#sk-container-id-1 input.sk-hidden--visually {border: 0;clip: rect(1px 1px 1px 1px);clip: rect(1px, 1px, 1px, 1px);height: 1px;margin: -1px;overflow: hidden;padding: 0;position: absolute;width: 1px;}#sk-container-id-1 div.sk-estimator {font-family: monospace;background-color: #f0f8ff;border: 1px dotted black;border-radius: 0.25em;box-sizing: border-box;margin-bottom: 0.5em;}#sk-container-id-1 div.sk-estimator:hover {background-color: #d4ebff;}#sk-container-id-1 div.sk-parallel-item::after {content: \"\";width: 100%;border-bottom: 1px solid gray;flex-grow: 1;}#sk-container-id-1 div.sk-label:hover label.sk-toggleable__label {background-color: #d4ebff;}#sk-container-id-1 div.sk-serial::before {content: \"\";position: absolute;border-left: 1px solid gray;box-sizing: border-box;top: 0;bottom: 0;left: 50%;z-index: 0;}#sk-container-id-1 div.sk-serial {display: flex;flex-direction: column;align-items: center;background-color: white;padding-right: 0.2em;padding-left: 0.2em;position: relative;}#sk-container-id-1 div.sk-item {position: relative;z-index: 1;}#sk-container-id-1 div.sk-parallel {display: flex;align-items: stretch;justify-content: center;background-color: white;position: relative;}#sk-container-id-1 div.sk-item::before, #sk-container-id-1 div.sk-parallel-item::before {content: \"\";position: absolute;border-left: 1px solid gray;box-sizing: border-box;top: 0;bottom: 0;left: 50%;z-index: -1;}#sk-container-id-1 div.sk-parallel-item {display: flex;flex-direction: column;z-index: 1;position: relative;background-color: white;}#sk-container-id-1 div.sk-parallel-item:first-child::after {align-self: flex-end;width: 50%;}#sk-container-id-1 div.sk-parallel-item:last-child::after {align-self: flex-start;width: 50%;}#sk-container-id-1 div.sk-parallel-item:only-child::after {width: 0;}#sk-container-id-1 div.sk-dashed-wrapped {border: 1px dashed gray;margin: 0 0.4em 0.5em 0.4em;box-sizing: border-box;padding-bottom: 0.4em;background-color: white;}#sk-container-id-1 div.sk-label label {font-family: monospace;font-weight: bold;display: inline-block;line-height: 1.2em;}#sk-container-id-1 div.sk-label-container {text-align: center;}#sk-container-id-1 div.sk-container {/* jupyter's `normalize.less` sets `[hidden] { display: none; }` but bootstrap.min.css set `[hidden] { display: none !important; }` so we also need the `!important` here to be able to override the default hidden behavior on the sphinx rendered scikit-learn.org. See: https://github.com/scikit-learn/scikit-learn/issues/21755 */display: inline-block !important;position: relative;}#sk-container-id-1 div.sk-text-repr-fallback {display: none;}</style><div id=\"sk-container-id-1\" class=\"sk-top-container\"><div class=\"sk-text-repr-fallback\"><pre>GridSearchCV(cv=5,\n",
       "             estimator=Pipeline(steps=[(&#x27;prep&#x27;,\n",
       "                                        ColumnTransformer(transformers=[(&#x27;categoric&#x27;,\n",
       "                                                                         Pipeline(steps=[(&#x27;imputer&#x27;,\n",
       "                                                                                          SimpleImputer(strategy=&#x27;most_frequent&#x27;)),\n",
       "                                                                                         (&#x27;ordinal&#x27;,\n",
       "                                                                                          OrdinalEncoder())]),\n",
       "                                                                         [&#x27;Kota &#x27;\n",
       "                                                                          &#x27;Domisili&#x27;,\n",
       "                                                                          &#x27;Usia&#x27;,\n",
       "                                                                          &#x27;Pengalaman &#x27;\n",
       "                                                                          &#x27;Pekerjaan&#x27;,\n",
       "                                                                          &#x27;Kemampuan &#x27;\n",
       "                                                                          &#x27;1 &#x27;\n",
       "                                                                          &#x27;(Komunikasi)&#x27;,\n",
       "                                                                          &#x27;Kemampuan &#x27;\n",
       "                                                                          &#x27;2 &#x27;\n",
       "                                                                          &#x27;(Negosiasi)&#x27;,\n",
       "                                                                          &#x27;Kemampuan &#x27;\n",
       "                                                                          &#x27;3 &#x27;\n",
       "                                                                          &#x27;(IT &#x27;\n",
       "                                                                          &#x27;Umum)&#x27;,\n",
       "                                                                          &#x27;Status &#x27;\n",
       "                                                                          &#x27;Kelengkapan&#x27;])])),\n",
       "                                       (&#x27;rfc&#x27;, RandomForestClassifier())]),\n",
       "             n_jobs=-1,\n",
       "             param_grid={&#x27;rfc__max_depth&#x27;: [4, 5, 6, 7],\n",
       "                         &#x27;rfc__max_features&#x27;: [&#x27;auto&#x27;, &#x27;sqrt&#x27;, &#x27;log2&#x27;],\n",
       "                         &#x27;rfc__n_estimators&#x27;: [50, 100, 200, 300]},\n",
       "             verbose=1)</pre><b>In a Jupyter environment, please rerun this cell to show the HTML representation or trust the notebook. <br />On GitHub, the HTML representation is unable to render, please try loading this page with nbviewer.org.</b></div><div class=\"sk-container\" hidden><div class=\"sk-item sk-dashed-wrapped\"><div class=\"sk-label-container\"><div class=\"sk-label sk-toggleable\"><input class=\"sk-toggleable__control sk-hidden--visually\" id=\"sk-estimator-id-1\" type=\"checkbox\" ><label for=\"sk-estimator-id-1\" class=\"sk-toggleable__label sk-toggleable__label-arrow\">GridSearchCV</label><div class=\"sk-toggleable__content\"><pre>GridSearchCV(cv=5,\n",
       "             estimator=Pipeline(steps=[(&#x27;prep&#x27;,\n",
       "                                        ColumnTransformer(transformers=[(&#x27;categoric&#x27;,\n",
       "                                                                         Pipeline(steps=[(&#x27;imputer&#x27;,\n",
       "                                                                                          SimpleImputer(strategy=&#x27;most_frequent&#x27;)),\n",
       "                                                                                         (&#x27;ordinal&#x27;,\n",
       "                                                                                          OrdinalEncoder())]),\n",
       "                                                                         [&#x27;Kota &#x27;\n",
       "                                                                          &#x27;Domisili&#x27;,\n",
       "                                                                          &#x27;Usia&#x27;,\n",
       "                                                                          &#x27;Pengalaman &#x27;\n",
       "                                                                          &#x27;Pekerjaan&#x27;,\n",
       "                                                                          &#x27;Kemampuan &#x27;\n",
       "                                                                          &#x27;1 &#x27;\n",
       "                                                                          &#x27;(Komunikasi)&#x27;,\n",
       "                                                                          &#x27;Kemampuan &#x27;\n",
       "                                                                          &#x27;2 &#x27;\n",
       "                                                                          &#x27;(Negosiasi)&#x27;,\n",
       "                                                                          &#x27;Kemampuan &#x27;\n",
       "                                                                          &#x27;3 &#x27;\n",
       "                                                                          &#x27;(IT &#x27;\n",
       "                                                                          &#x27;Umum)&#x27;,\n",
       "                                                                          &#x27;Status &#x27;\n",
       "                                                                          &#x27;Kelengkapan&#x27;])])),\n",
       "                                       (&#x27;rfc&#x27;, RandomForestClassifier())]),\n",
       "             n_jobs=-1,\n",
       "             param_grid={&#x27;rfc__max_depth&#x27;: [4, 5, 6, 7],\n",
       "                         &#x27;rfc__max_features&#x27;: [&#x27;auto&#x27;, &#x27;sqrt&#x27;, &#x27;log2&#x27;],\n",
       "                         &#x27;rfc__n_estimators&#x27;: [50, 100, 200, 300]},\n",
       "             verbose=1)</pre></div></div></div><div class=\"sk-parallel\"><div class=\"sk-parallel-item\"><div class=\"sk-item\"><div class=\"sk-label-container\"><div class=\"sk-label sk-toggleable\"><input class=\"sk-toggleable__control sk-hidden--visually\" id=\"sk-estimator-id-2\" type=\"checkbox\" ><label for=\"sk-estimator-id-2\" class=\"sk-toggleable__label sk-toggleable__label-arrow\">estimator: Pipeline</label><div class=\"sk-toggleable__content\"><pre>Pipeline(steps=[(&#x27;prep&#x27;,\n",
       "                 ColumnTransformer(transformers=[(&#x27;categoric&#x27;,\n",
       "                                                  Pipeline(steps=[(&#x27;imputer&#x27;,\n",
       "                                                                   SimpleImputer(strategy=&#x27;most_frequent&#x27;)),\n",
       "                                                                  (&#x27;ordinal&#x27;,\n",
       "                                                                   OrdinalEncoder())]),\n",
       "                                                  [&#x27;Kota Domisili&#x27;, &#x27;Usia&#x27;,\n",
       "                                                   &#x27;Pengalaman Pekerjaan&#x27;,\n",
       "                                                   &#x27;Kemampuan 1 (Komunikasi)&#x27;,\n",
       "                                                   &#x27;Kemampuan 2 (Negosiasi)&#x27;,\n",
       "                                                   &#x27;Kemampuan 3 (IT Umum)&#x27;,\n",
       "                                                   &#x27;Status Kelengkapan&#x27;])])),\n",
       "                (&#x27;rfc&#x27;, RandomForestClassifier())])</pre></div></div></div><div class=\"sk-serial\"><div class=\"sk-item\"><div class=\"sk-serial\"><div class=\"sk-item sk-dashed-wrapped\"><div class=\"sk-label-container\"><div class=\"sk-label sk-toggleable\"><input class=\"sk-toggleable__control sk-hidden--visually\" id=\"sk-estimator-id-3\" type=\"checkbox\" ><label for=\"sk-estimator-id-3\" class=\"sk-toggleable__label sk-toggleable__label-arrow\">prep: ColumnTransformer</label><div class=\"sk-toggleable__content\"><pre>ColumnTransformer(transformers=[(&#x27;categoric&#x27;,\n",
       "                                 Pipeline(steps=[(&#x27;imputer&#x27;,\n",
       "                                                  SimpleImputer(strategy=&#x27;most_frequent&#x27;)),\n",
       "                                                 (&#x27;ordinal&#x27;,\n",
       "                                                  OrdinalEncoder())]),\n",
       "                                 [&#x27;Kota Domisili&#x27;, &#x27;Usia&#x27;,\n",
       "                                  &#x27;Pengalaman Pekerjaan&#x27;,\n",
       "                                  &#x27;Kemampuan 1 (Komunikasi)&#x27;,\n",
       "                                  &#x27;Kemampuan 2 (Negosiasi)&#x27;,\n",
       "                                  &#x27;Kemampuan 3 (IT Umum)&#x27;,\n",
       "                                  &#x27;Status Kelengkapan&#x27;])])</pre></div></div></div><div class=\"sk-parallel\"><div class=\"sk-parallel-item\"><div class=\"sk-item\"><div class=\"sk-label-container\"><div class=\"sk-label sk-toggleable\"><input class=\"sk-toggleable__control sk-hidden--visually\" id=\"sk-estimator-id-4\" type=\"checkbox\" ><label for=\"sk-estimator-id-4\" class=\"sk-toggleable__label sk-toggleable__label-arrow\">categoric</label><div class=\"sk-toggleable__content\"><pre>[&#x27;Kota Domisili&#x27;, &#x27;Usia&#x27;, &#x27;Pengalaman Pekerjaan&#x27;, &#x27;Kemampuan 1 (Komunikasi)&#x27;, &#x27;Kemampuan 2 (Negosiasi)&#x27;, &#x27;Kemampuan 3 (IT Umum)&#x27;, &#x27;Status Kelengkapan&#x27;]</pre></div></div></div><div class=\"sk-serial\"><div class=\"sk-item\"><div class=\"sk-serial\"><div class=\"sk-item\"><div class=\"sk-estimator sk-toggleable\"><input class=\"sk-toggleable__control sk-hidden--visually\" id=\"sk-estimator-id-5\" type=\"checkbox\" ><label for=\"sk-estimator-id-5\" class=\"sk-toggleable__label sk-toggleable__label-arrow\">SimpleImputer</label><div class=\"sk-toggleable__content\"><pre>SimpleImputer(strategy=&#x27;most_frequent&#x27;)</pre></div></div></div><div class=\"sk-item\"><div class=\"sk-estimator sk-toggleable\"><input class=\"sk-toggleable__control sk-hidden--visually\" id=\"sk-estimator-id-6\" type=\"checkbox\" ><label for=\"sk-estimator-id-6\" class=\"sk-toggleable__label sk-toggleable__label-arrow\">OrdinalEncoder</label><div class=\"sk-toggleable__content\"><pre>OrdinalEncoder()</pre></div></div></div></div></div></div></div></div></div></div><div class=\"sk-item\"><div class=\"sk-estimator sk-toggleable\"><input class=\"sk-toggleable__control sk-hidden--visually\" id=\"sk-estimator-id-7\" type=\"checkbox\" ><label for=\"sk-estimator-id-7\" class=\"sk-toggleable__label sk-toggleable__label-arrow\">RandomForestClassifier</label><div class=\"sk-toggleable__content\"><pre>RandomForestClassifier()</pre></div></div></div></div></div></div></div></div></div></div></div></div>"
      ],
      "text/plain": [
       "GridSearchCV(cv=5,\n",
       "             estimator=Pipeline(steps=[('prep',\n",
       "                                        ColumnTransformer(transformers=[('categoric',\n",
       "                                                                         Pipeline(steps=[('imputer',\n",
       "                                                                                          SimpleImputer(strategy='most_frequent')),\n",
       "                                                                                         ('ordinal',\n",
       "                                                                                          OrdinalEncoder())]),\n",
       "                                                                         ['Kota '\n",
       "                                                                          'Domisili',\n",
       "                                                                          'Usia',\n",
       "                                                                          'Pengalaman '\n",
       "                                                                          'Pekerjaan',\n",
       "                                                                          'Kemampuan '\n",
       "                                                                          '1 '\n",
       "                                                                          '(Komunikasi)',\n",
       "                                                                          'Kemampuan '\n",
       "                                                                          '2 '\n",
       "                                                                          '(Negosiasi)',\n",
       "                                                                          'Kemampuan '\n",
       "                                                                          '3 '\n",
       "                                                                          '(IT '\n",
       "                                                                          'Umum)',\n",
       "                                                                          'Status '\n",
       "                                                                          'Kelengkapan'])])),\n",
       "                                       ('rfc', RandomForestClassifier())]),\n",
       "             n_jobs=-1,\n",
       "             param_grid={'rfc__max_depth': [4, 5, 6, 7],\n",
       "                         'rfc__max_features': ['auto', 'sqrt', 'log2'],\n",
       "                         'rfc__n_estimators': [50, 100, 200, 300]},\n",
       "             verbose=1)"
      ]
     },
     "execution_count": 10,
     "metadata": {},
     "output_type": "execute_result"
    }
   ],
   "source": [
    "model = GridSearchCV(pipeline, param_grid=parameter, cv= 5, n_jobs=-1, verbose=1)\n",
    "model.fit(X_train, y_train)"
   ]
  },
  {
   "cell_type": "code",
   "execution_count": 11,
   "id": "d27f8d0f",
   "metadata": {},
   "outputs": [
    {
     "name": "stdout",
     "output_type": "stream",
     "text": [
      "{'rfc__max_depth': 4, 'rfc__max_features': 'auto', 'rfc__n_estimators': 50}\n",
      "0.9975247524752475 0.9975308641975309 0.9971181556195965\n"
     ]
    }
   ],
   "source": [
    "print(model.best_params_)\n",
    "print(model.score(X_train, y_train), model.best_score_, model.score(X_test, y_test))"
   ]
  },
  {
   "cell_type": "code",
   "execution_count": 12,
   "id": "5ff17f2b",
   "metadata": {},
   "outputs": [
    {
     "data": {
      "text/html": [
       "<div>\n",
       "<style scoped>\n",
       "    .dataframe tbody tr th:only-of-type {\n",
       "        vertical-align: middle;\n",
       "    }\n",
       "\n",
       "    .dataframe tbody tr th {\n",
       "        vertical-align: top;\n",
       "    }\n",
       "\n",
       "    .dataframe thead th {\n",
       "        text-align: right;\n",
       "    }\n",
       "</style>\n",
       "<table border=\"1\" class=\"dataframe\">\n",
       "  <thead>\n",
       "    <tr style=\"text-align: right;\">\n",
       "      <th></th>\n",
       "      <th>Kota Domisili</th>\n",
       "      <th>Usia</th>\n",
       "      <th>Pengalaman Pekerjaan</th>\n",
       "      <th>Kemampuan 1 (Komunikasi)</th>\n",
       "      <th>Kemampuan 2 (Negosiasi)</th>\n",
       "      <th>Kemampuan 3 (IT Umum)</th>\n",
       "      <th>Status Kelengkapan</th>\n",
       "    </tr>\n",
       "  </thead>\n",
       "  <tbody>\n",
       "    <tr>\n",
       "      <th>0</th>\n",
       "      <td>Luar Wilayah Tangerang</td>\n",
       "      <td>&lt;30</td>\n",
       "      <td>Ada</td>\n",
       "      <td>Iya</td>\n",
       "      <td>Iya</td>\n",
       "      <td>Tidak</td>\n",
       "      <td>Lengkap</td>\n",
       "    </tr>\n",
       "    <tr>\n",
       "      <th>1</th>\n",
       "      <td>Luar Wilayah Tangerang</td>\n",
       "      <td>&lt;30</td>\n",
       "      <td>Ada</td>\n",
       "      <td>Iya</td>\n",
       "      <td>Tidak</td>\n",
       "      <td>Tidak</td>\n",
       "      <td>Tidak Lengkap</td>\n",
       "    </tr>\n",
       "  </tbody>\n",
       "</table>\n",
       "</div>"
      ],
      "text/plain": [
       "            Kota Domisili Usia Pengalaman Pekerjaan Kemampuan 1 (Komunikasi)  \\\n",
       "0  Luar Wilayah Tangerang  <30                  Ada                      Iya   \n",
       "1  Luar Wilayah Tangerang  <30                  Ada                      Iya   \n",
       "\n",
       "  Kemampuan 2 (Negosiasi) Kemampuan 3 (IT Umum) Status Kelengkapan  \n",
       "0                     Iya                 Tidak            Lengkap  \n",
       "1                   Tidak                 Tidak      Tidak Lengkap  "
      ]
     },
     "execution_count": 12,
     "metadata": {},
     "output_type": "execute_result"
    }
   ],
   "source": [
    "X_pred = pd.DataFrame(df, index=[0, 1], columns=X.columns)\n",
    "X_pred"
   ]
  },
  {
   "cell_type": "code",
   "execution_count": 13,
   "id": "3540c427",
   "metadata": {},
   "outputs": [
    {
     "data": {
      "text/plain": [
       "array(['Ditolak', 'Ditolak'], dtype=object)"
      ]
     },
     "execution_count": 13,
     "metadata": {},
     "output_type": "execute_result"
    }
   ],
   "source": [
    "model.predict(X_pred)"
   ]
  },
  {
   "cell_type": "code",
   "execution_count": 14,
   "id": "ee3adf22",
   "metadata": {},
   "outputs": [
    {
     "data": {
      "text/html": [
       "<div>\n",
       "<style scoped>\n",
       "    .dataframe tbody tr th:only-of-type {\n",
       "        vertical-align: middle;\n",
       "    }\n",
       "\n",
       "    .dataframe tbody tr th {\n",
       "        vertical-align: top;\n",
       "    }\n",
       "\n",
       "    .dataframe thead th {\n",
       "        text-align: right;\n",
       "    }\n",
       "</style>\n",
       "<table border=\"1\" class=\"dataframe\">\n",
       "  <thead>\n",
       "    <tr style=\"text-align: right;\">\n",
       "      <th></th>\n",
       "      <th>Kota Domisili</th>\n",
       "      <th>Usia</th>\n",
       "      <th>Pengalaman Pekerjaan</th>\n",
       "      <th>Kemampuan 1 (Komunikasi)</th>\n",
       "      <th>Kemampuan 2 (Negosiasi)</th>\n",
       "      <th>Kemampuan 3 (IT Umum)</th>\n",
       "      <th>Status Kelengkapan</th>\n",
       "      <th>Tahapan</th>\n",
       "    </tr>\n",
       "  </thead>\n",
       "  <tbody>\n",
       "    <tr>\n",
       "      <th>0</th>\n",
       "      <td>Luar Wilayah Tangerang</td>\n",
       "      <td>&lt;30</td>\n",
       "      <td>Ada</td>\n",
       "      <td>Iya</td>\n",
       "      <td>Iya</td>\n",
       "      <td>Tidak</td>\n",
       "      <td>Lengkap</td>\n",
       "      <td>Ditolak</td>\n",
       "    </tr>\n",
       "    <tr>\n",
       "      <th>1</th>\n",
       "      <td>Luar Wilayah Tangerang</td>\n",
       "      <td>&lt;30</td>\n",
       "      <td>Ada</td>\n",
       "      <td>Iya</td>\n",
       "      <td>Tidak</td>\n",
       "      <td>Tidak</td>\n",
       "      <td>Tidak Lengkap</td>\n",
       "      <td>Ditolak</td>\n",
       "    </tr>\n",
       "  </tbody>\n",
       "</table>\n",
       "</div>"
      ],
      "text/plain": [
       "            Kota Domisili Usia Pengalaman Pekerjaan Kemampuan 1 (Komunikasi)  \\\n",
       "0  Luar Wilayah Tangerang  <30                  Ada                      Iya   \n",
       "1  Luar Wilayah Tangerang  <30                  Ada                      Iya   \n",
       "\n",
       "  Kemampuan 2 (Negosiasi) Kemampuan 3 (IT Umum) Status Kelengkapan  Tahapan  \n",
       "0                     Iya                 Tidak            Lengkap  Ditolak  \n",
       "1                   Tidak                 Tidak      Tidak Lengkap  Ditolak  "
      ]
     },
     "execution_count": 14,
     "metadata": {},
     "output_type": "execute_result"
    }
   ],
   "source": [
    "X_pred[\"Tahapan\"] = model.predict(X_pred)\n",
    "X_pred"
   ]
  },
  {
   "cell_type": "code",
   "execution_count": 15,
   "id": "1764ef34",
   "metadata": {},
   "outputs": [],
   "source": [
    "from jcopml.utils import save_model\n",
    "from jcopml.utils import load_model"
   ]
  },
  {
   "cell_type": "code",
   "execution_count": 16,
   "id": "81650fad",
   "metadata": {},
   "outputs": [
    {
     "name": "stdout",
     "output_type": "stream",
     "text": [
      "Model is pickled as model/model_datapelamar1.pkl\n"
     ]
    }
   ],
   "source": [
    "save_model(model, \"model_datapelamar1.pkl\")"
   ]
  },
  {
   "cell_type": "code",
   "execution_count": 17,
   "id": "ab274578",
   "metadata": {},
   "outputs": [],
   "source": [
    "model = load_model(\"model/model_datapelamar1.pkl\")"
   ]
  },
  {
   "cell_type": "code",
   "execution_count": 18,
   "id": "a6739ffe",
   "metadata": {},
   "outputs": [
    {
     "data": {
      "text/plain": [
       "array(['Ditolak', 'Ditolak'], dtype=object)"
      ]
     },
     "execution_count": 18,
     "metadata": {},
     "output_type": "execute_result"
    }
   ],
   "source": [
    "model.predict(X_pred)"
   ]
  },
  {
   "cell_type": "code",
   "execution_count": null,
   "id": "ee2c0c2b",
   "metadata": {},
   "outputs": [],
   "source": []
  }
 ],
 "metadata": {
  "kernelspec": {
   "display_name": "Python 3 (ipykernel)",
   "language": "python",
   "name": "python3"
  },
  "language_info": {
   "codemirror_mode": {
    "name": "ipython",
    "version": 3
   },
   "file_extension": ".py",
   "mimetype": "text/x-python",
   "name": "python",
   "nbconvert_exporter": "python",
   "pygments_lexer": "ipython3",
   "version": "3.9.12"
  }
 },
 "nbformat": 4,
 "nbformat_minor": 5
}
